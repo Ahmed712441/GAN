{
  "nbformat": 4,
  "nbformat_minor": 0,
  "metadata": {
    "colab": {
      "name": "GANs.ipynb",
      "provenance": [],
      "collapsed_sections": []
    },
    "kernelspec": {
      "name": "python3",
      "display_name": "Python 3"
    },
    "language_info": {
      "name": "python"
    },
    "accelerator": "GPU"
  },
  "cells": [
    {
      "cell_type": "code",
      "metadata": {
        "colab": {
          "base_uri": "https://localhost:8080/"
        },
        "id": "dj8dLn3OeksP",
        "outputId": "64fc1d25-f73e-4561-ef2e-934564de871b"
      },
      "source": [
        "%tensorflow_version 1.x"
      ],
      "execution_count": 1,
      "outputs": [
        {
          "output_type": "stream",
          "text": [
            "TensorFlow 1.x selected.\n"
          ],
          "name": "stdout"
        }
      ]
    },
    {
      "cell_type": "code",
      "metadata": {
        "id": "ev3aTsw6eukn"
      },
      "source": [
        "import tensorflow as tf\n",
        "import numpy as np"
      ],
      "execution_count": 2,
      "outputs": []
    },
    {
      "cell_type": "code",
      "metadata": {
        "colab": {
          "base_uri": "https://localhost:8080/"
        },
        "id": "jCPYUUeTezJZ",
        "outputId": "62178c39-3765-40a3-b23a-1da981f77e26"
      },
      "source": [
        "img_dm = 28\n",
        "random_size = 100 \n",
        "\n",
        "X = tf.placeholder(dtype=tf.float32,shape=[None,img_dm,img_dm],name=\"Real_data_inputs\")\n",
        "Z = tf.placeholder(dtype=tf.float32,shape=[None,random_size],name=\"random_data_inputs\")\n",
        "X,Z"
      ],
      "execution_count": 3,
      "outputs": [
        {
          "output_type": "execute_result",
          "data": {
            "text/plain": [
              "(<tf.Tensor 'Real_data_inputs:0' shape=(?, 28, 28) dtype=float32>,\n",
              " <tf.Tensor 'random_data_inputs:0' shape=(?, 100) dtype=float32>)"
            ]
          },
          "metadata": {
            "tags": []
          },
          "execution_count": 3
        }
      ]
    },
    {
      "cell_type": "code",
      "metadata": {
        "colab": {
          "base_uri": "https://localhost:8080/"
        },
        "id": "OjesmZYwfoqw",
        "outputId": "5b663f00-6375-458d-fcc4-ca843c465a70"
      },
      "source": [
        "X_flattened = tf.reshape(X,[-1,img_dm*img_dm],name=\"first_layer\")\n",
        "X_flattened"
      ],
      "execution_count": 4,
      "outputs": [
        {
          "output_type": "execute_result",
          "data": {
            "text/plain": [
              "<tf.Tensor 'first_layer:0' shape=(?, 784) dtype=float32>"
            ]
          },
          "metadata": {
            "tags": []
          },
          "execution_count": 4
        }
      ]
    },
    {
      "cell_type": "code",
      "metadata": {
        "colab": {
          "base_uri": "https://localhost:8080/"
        },
        "id": "6mtuDn-Bf3q8",
        "outputId": "1fdadb13-a302-4326-e006-fb8473b8dd89"
      },
      "source": [
        "g_hiddenlayer = 256\n",
        "d_hiddenlayer = 256\n",
        "epsilon = 1e-03\n",
        "laerning_rate = 0.0002\n",
        "\n",
        "second_layer_g = tf.layers.dense(Z,g_hiddenlayer,activation=tf.nn.relu,name='second_layer_g')\n",
        "fake_img = tf.layers.dense(second_layer_g,img_dm*img_dm,activation=tf.nn.sigmoid,name='fake_img')\n",
        "\n",
        "# second_layer_d = tf.layers.dense(X_flattened,d_hiddenlayer,activation=tf.nn.relu,name='second_layer_d')\n",
        "# out_d = tf.layers.dense(second_layer_d,1,activation=tf.nn.sigmoid,name='out_d')\n",
        "\n",
        "# out_real = out_d\n",
        "\n",
        "second_layer_d = tf.layers.dense(X_flattened,d_hiddenlayer,activation=tf.nn.relu,name='second_layer_d')\n",
        "out_real = tf.layers.dense(second_layer_d,1,activation=tf.nn.sigmoid,name='out_d')\n",
        "\n",
        "w_second_layer_d = None\n",
        "b_second_layer_d = None\n",
        "W_out_d = None\n",
        "b_out_d = None\n",
        "\n",
        "with tf.variable_scope('second_layer_d', reuse=True):\n",
        "  global w_second_layer_d \n",
        "  w_second_layer_d = tf.get_variable('kernel')\n",
        "  global b_second_layer_d \n",
        "  b_second_layer_d = tf.get_variable('bias')\n",
        "\n",
        "with tf.variable_scope('out_d', reuse=True):\n",
        "  global W_out_d \n",
        "  W_out_d = tf.get_variable('kernel')\n",
        "  global b_out_d \n",
        "  b_out_d = tf.get_variable('bias')\n",
        "\n",
        "\n",
        "with tf.variable_scope('second_layer_g', reuse=True):\n",
        "    w_second_layer_g = tf.get_variable('kernel')\n",
        "    b_second_layer_g = tf.get_variable('bias')\n",
        "\n",
        "with tf.variable_scope('fake_img', reuse=True):\n",
        "    W_out_g = tf.get_variable('kernel')\n",
        "    b_out_g = tf.get_variable('bias')\n",
        "\n",
        "second_layer_d = tf.layers.dense(fake_img,d_hiddenlayer,activation=tf.nn.relu,name='second_layer_d',reuse=True)\n",
        "out_fake = tf.layers.dense(second_layer_d,1,activation=tf.nn.sigmoid,name='out_d',reuse=True)\n",
        "\n",
        "# second_layer_d = tf.layers.dense(fake_img,d_hiddenlayer,activation=tf.nn.relu)\n",
        "# out_d = tf.layers.dense(second_layer_d,1,activation=tf.nn.sigmoid)\n",
        "\n",
        "# out_fake = out_d\n",
        "\n",
        "# l=tf.layers.dense(X_flattened,300,name='ip1')\n",
        "# with tf.variable_scope('ip1', reuse=True):\n",
        "#     w = tf.get_variable('kernel')\n",
        "# w\n",
        "\n",
        "\n",
        "# First = False\n",
        "# def dicriminator(X,first=True):\n",
        "  \n",
        "#   second_layer_d = tf.layers.dense(X,d_hiddenlayer,activation=tf.nn.relu,name='second_layer_d',reuse=first)\n",
        "#   out_d = tf.layers.dense(second_layer_d,1,activation=tf.nn.sigmoid,name='out_d',reuse=first)\n",
        "#   if  \n",
        "#   with tf.variable_scope('second_layer_d', reuse=True):\n",
        "#     global w_second_layer_d \n",
        "#     w_second_layer_d = tf.get_variable('kernel')\n",
        "#     global b_second_layer_d \n",
        "#     b_second_layer_d = tf.get_variable('bias')\n",
        "\n",
        "#   with tf.variable_scope('out_d', reuse=True):\n",
        "#     global W_out_d \n",
        "#     W_out_d = tf.get_variable('kernel')\n",
        "#     global b_out_d \n",
        "#     b_out_d = tf.get_variable('bias')\n",
        "#   return out_d\n",
        "\n",
        "# out_real = dicriminator(X_flattened,First)\n",
        "# First = True\n",
        "# out_fake = dicriminator(fake_img,First)\n",
        "\n",
        "D_Loss = -tf.reduce_mean(tf.add(tf.log(out_real+epsilon),tf.log(1-out_fake+epsilon)),name='d_loss')\n",
        "G_loss = -tf.reduce_mean(tf.log(out_fake+epsilon),name='G_loss') \n"
      ],
      "execution_count": 5,
      "outputs": [
        {
          "output_type": "stream",
          "text": [
            "WARNING:tensorflow:From <ipython-input-5-b8b6e17aa9ed>:6: dense (from tensorflow.python.layers.core) is deprecated and will be removed in a future version.\n",
            "Instructions for updating:\n",
            "Use keras.layers.Dense instead.\n",
            "WARNING:tensorflow:From /tensorflow-1.15.2/python3.7/tensorflow_core/python/layers/core.py:187: Layer.apply (from tensorflow.python.keras.engine.base_layer) is deprecated and will be removed in a future version.\n",
            "Instructions for updating:\n",
            "Please use `layer.__call__` method instead.\n"
          ],
          "name": "stdout"
        }
      ]
    },
    {
      "cell_type": "code",
      "metadata": {
        "colab": {
          "base_uri": "https://localhost:8080/"
        },
        "id": "THXQA2wWnOOs",
        "outputId": "5113f893-ebfb-41e2-8ae3-288a3fb22446"
      },
      "source": [
        "G_loss,D_Loss"
      ],
      "execution_count": 6,
      "outputs": [
        {
          "output_type": "execute_result",
          "data": {
            "text/plain": [
              "(<tf.Tensor 'Neg_1:0' shape=() dtype=float32>,\n",
              " <tf.Tensor 'Neg:0' shape=() dtype=float32>)"
            ]
          },
          "metadata": {
            "tags": []
          },
          "execution_count": 6
        }
      ]
    },
    {
      "cell_type": "code",
      "metadata": {
        "id": "K72ECGIRmgBE"
      },
      "source": [
        "optimizer = tf.train.AdamOptimizer(laerning_rate)\n",
        "optimizer2 = tf.train.AdamOptimizer(laerning_rate)\n",
        "D_op = optimizer.minimize(D_Loss,var_list=[w_second_layer_d,W_out_d,b_second_layer_d,b_out_d] ,name=\"training_D\")\n",
        "G_op = optimizer2.minimize(G_loss,var_list=[w_second_layer_g,W_out_g,b_second_layer_g,b_out_g] ,name=\"training_G\")\n",
        "init = tf.global_variables_initializer()\n",
        "saver = tf.train.Saver()"
      ],
      "execution_count": 7,
      "outputs": []
    },
    {
      "cell_type": "code",
      "metadata": {
        "id": "qHQqOP_h0yqa"
      },
      "source": [
        "(x_train, y_train), (x_test, y_test) = tf.keras.datasets.fashion_mnist.load_data()"
      ],
      "execution_count": 8,
      "outputs": []
    },
    {
      "cell_type": "code",
      "metadata": {
        "colab": {
          "base_uri": "https://localhost:8080/",
          "height": 282
        },
        "id": "rKGyu2yI1f-X",
        "outputId": "8eaeff7a-c9ce-4a27-a949-10eac0e4b904"
      },
      "source": [
        "import matplotlib.pyplot as plt\n",
        " \n",
        "plt.imshow(x_train[1])"
      ],
      "execution_count": 9,
      "outputs": [
        {
          "output_type": "execute_result",
          "data": {
            "text/plain": [
              "<matplotlib.image.AxesImage at 0x7ff0f21de690>"
            ]
          },
          "metadata": {
            "tags": []
          },
          "execution_count": 9
        },
        {
          "output_type": "display_data",
          "data": {
            "image/png": "[encoded data removed]",
            "text/plain": [
              "<Figure size 432x288 with 1 Axes>"
            ]
          },
          "metadata": {
            "tags": [],
            "needs_background": "light"
          }
        }
      ]
    },
    {
      "cell_type": "code",
      "metadata": {
        "colab": {
          "base_uri": "https://localhost:8080/"
        },
        "id": "YhCWXEdq1z5a",
        "outputId": "4af03a80-40ea-4ac8-fa5f-ed4a7bef0cbf"
      },
      "source": [
        "x_train.shape"
      ],
      "execution_count": 10,
      "outputs": [
        {
          "output_type": "execute_result",
          "data": {
            "text/plain": [
              "(60000, 28, 28)"
            ]
          },
          "metadata": {
            "tags": []
          },
          "execution_count": 10
        }
      ]
    },
    {
      "cell_type": "code",
      "metadata": {
        "id": "qSNIDb8U2Bzi"
      },
      "source": [
        "x = np.concatenate((x_train,x_test),axis=0)"
      ],
      "execution_count": 11,
      "outputs": []
    },
    {
      "cell_type": "code",
      "metadata": {
        "colab": {
          "base_uri": "https://localhost:8080/"
        },
        "id": "dyJU35id16fm",
        "outputId": "76bb9331-abc6-4b74-d414-5f2c9793466a"
      },
      "source": [
        "x.shape"
      ],
      "execution_count": 12,
      "outputs": [
        {
          "output_type": "execute_result",
          "data": {
            "text/plain": [
              "(70000, 28, 28)"
            ]
          },
          "metadata": {
            "tags": []
          },
          "execution_count": 12
        }
      ]
    },
    {
      "cell_type": "code",
      "metadata": {
        "colab": {
          "base_uri": "https://localhost:8080/"
        },
        "id": "-bk-mH_OuyKH",
        "outputId": "779dcbe5-421e-4c02-fe7b-2816d73a6ea2"
      },
      "source": [
        "n_epochs = 1000\n",
        "batch_size = 100\n",
        "restore_checkpoint = True\n",
        "\n",
        "n_iterations_per_epoch =  x.shape[0] // batch_size\n",
        "best_loss_val = np.infty\n",
        "checkpoint_path = \"./my_GAN_network\"\n",
        "\n",
        "with tf.Session() as sess:\n",
        "  if restore_checkpoint and tf.train.checkpoint_exists(checkpoint_path):\n",
        "    saver.restore(sess, checkpoint_path)\n",
        "  else:\n",
        "    init.run()\n",
        "\n",
        "  for epoch in range(n_epochs):\n",
        "    Genarator_loss = 0\n",
        "    Discriminator_loss = 0\n",
        "    for iteration in range( n_iterations_per_epoch ):\n",
        "        X_batch = x[batch_size*iteration:batch_size*(iteration+1)]\n",
        "          # Run the training operation and measure the loss:\n",
        "        _,_,Discr_loss, GAN_loss,_ = sess.run(\n",
        "                [D_op,G_op,D_Loss,G_loss,fake_img],\n",
        "                feed_dict={X: X_batch/255,\n",
        "                           Z: np.random.uniform(-1,1,size=(batch_size,random_size))\n",
        "                           })\n",
        "        print(\"\\rIteration: {}/{} ({:.1f}%)  Genarator Loss: {:.5f} , Discriminator Loss: {:.5f}\".format(\n",
        "                      iteration+1, n_iterations_per_epoch,\n",
        "                      iteration * 100 / n_iterations_per_epoch,\n",
        "                      GAN_loss,Discr_loss),\n",
        "                  end=\"       \")\n",
        "      \n",
        "        Genarator_loss += GAN_loss\n",
        "        Discriminator_loss += Discr_loss\n",
        "    Genarator_loss /= n_iterations_per_epoch\n",
        "    Discriminator_loss /= n_iterations_per_epoch\n",
        "    if(epoch % 20 == 0):\n",
        "      print(f\"Epoch : {epoch} , Genarator Loss: {Genarator_loss} , Discriminator Loss: {Discriminator_loss}\")\n",
        "    # if Genarator_loss < best_loss_val:\n",
        "    save_path = saver.save(sess, checkpoint_path)\n",
        "      # best_loss_val = GAN_loss\n"
      ],
      "execution_count": 38,
      "outputs": [
        {
          "output_type": "stream",
          "text": [
            "INFO:tensorflow:Restoring parameters from ./my_GAN_network\n",
            "Iteration: 700/700 (99.9%)  Genarator Loss: 1.14251 , Discriminator Loss: 0.92838       Epoch : 0 , Genarator Loss: 1.2627457292590822 , Discriminator Loss: 0.942210208433015\n",
            "Iteration: 700/700 (99.9%)  Genarator Loss: 1.28455 , Discriminator Loss: 0.82686       Epoch : 20 , Genarator Loss: 1.2729875597783498 , Discriminator Loss: 0.9421745795863016\n",
            "Iteration: 700/700 (99.9%)  Genarator Loss: 1.18414 , Discriminator Loss: 0.86531       Epoch : 40 , Genarator Loss: 1.2711492059912 , Discriminator Loss: 0.9423239145108632\n",
            "Iteration: 700/700 (99.9%)  Genarator Loss: 1.22312 , Discriminator Loss: 0.85219       Epoch : 60 , Genarator Loss: 1.276721554483686 , Discriminator Loss: 0.9367802024739129\n",
            "Iteration: 700/700 (99.9%)  Genarator Loss: 1.09759 , Discriminator Loss: 0.90585       Epoch : 80 , Genarator Loss: 1.2798227675471987 , Discriminator Loss: 0.9350994770867483\n",
            "Iteration: 700/700 (99.9%)  Genarator Loss: 1.13873 , Discriminator Loss: 0.84593       Epoch : 100 , Genarator Loss: 1.282550275836672 , Discriminator Loss: 0.9317046082019806\n",
            "Iteration: 700/700 (99.9%)  Genarator Loss: 1.26001 , Discriminator Loss: 0.84782       Epoch : 120 , Genarator Loss: 1.2865363881417684 , Discriminator Loss: 0.9328149639708655\n",
            "Iteration: 700/700 (99.9%)  Genarator Loss: 1.33501 , Discriminator Loss: 0.86553       Epoch : 140 , Genarator Loss: 1.2952858740942819 , Discriminator Loss: 0.9281913606609618\n",
            "Iteration: 700/700 (99.9%)  Genarator Loss: 1.29330 , Discriminator Loss: 0.86832       Epoch : 160 , Genarator Loss: 1.2979368390355792 , Discriminator Loss: 0.9230627846717835\n",
            "Iteration: 700/700 (99.9%)  Genarator Loss: 1.23560 , Discriminator Loss: 0.87972       Epoch : 180 , Genarator Loss: 1.2958457048450198 , Discriminator Loss: 0.923221571956362\n",
            "Iteration: 700/700 (99.9%)  Genarator Loss: 1.13055 , Discriminator Loss: 0.88991       Epoch : 200 , Genarator Loss: 1.3027999761274882 , Discriminator Loss: 0.9234533309936523\n",
            "Iteration: 700/700 (99.9%)  Genarator Loss: 1.15494 , Discriminator Loss: 0.86524       Epoch : 220 , Genarator Loss: 1.3036810424498149 , Discriminator Loss: 0.920356006877763\n",
            "Iteration: 700/700 (99.9%)  Genarator Loss: 1.39317 , Discriminator Loss: 0.83105       Epoch : 240 , Genarator Loss: 1.3097080498082296 , Discriminator Loss: 0.9142931086676461\n",
            "Iteration: 700/700 (99.9%)  Genarator Loss: 1.18041 , Discriminator Loss: 0.96439       Epoch : 260 , Genarator Loss: 1.3100804370641708 , Discriminator Loss: 0.9194118042503084\n",
            "Iteration: 700/700 (99.9%)  Genarator Loss: 1.21852 , Discriminator Loss: 0.88318       Epoch : 280 , Genarator Loss: 1.3103623616695403 , Discriminator Loss: 0.9160153419630868\n",
            "Iteration: 700/700 (99.9%)  Genarator Loss: 1.21430 , Discriminator Loss: 0.89106       Epoch : 300 , Genarator Loss: 1.3033913622583662 , Discriminator Loss: 0.9231798049381801\n",
            "Iteration: 700/700 (99.9%)  Genarator Loss: 1.30582 , Discriminator Loss: 0.85259       Epoch : 320 , Genarator Loss: 1.3201494344643183 , Discriminator Loss: 0.9118281647988729\n",
            "Iteration: 700/700 (99.9%)  Genarator Loss: 1.26957 , Discriminator Loss: 0.87400       Epoch : 340 , Genarator Loss: 1.3042347709621702 , Discriminator Loss: 0.9195903467280524\n",
            "Iteration: 700/700 (99.9%)  Genarator Loss: 1.36611 , Discriminator Loss: 0.84213       Epoch : 360 , Genarator Loss: 1.310814079471997 , Discriminator Loss: 0.9212309220858983\n",
            "Iteration: 700/700 (99.9%)  Genarator Loss: 1.21064 , Discriminator Loss: 0.92078       Epoch : 380 , Genarator Loss: 1.3040391767024995 , Discriminator Loss: 0.9212032748971667\n",
            "Iteration: 700/700 (99.9%)  Genarator Loss: 1.20806 , Discriminator Loss: 0.88268       Epoch : 400 , Genarator Loss: 1.3001039712769644 , Discriminator Loss: 0.9231006079912185\n",
            "Iteration: 700/700 (99.9%)  Genarator Loss: 1.21674 , Discriminator Loss: 0.89865       Epoch : 420 , Genarator Loss: 1.3045699598108018 , Discriminator Loss: 0.9162247114522116\n",
            "Iteration: 700/700 (99.9%)  Genarator Loss: 1.35748 , Discriminator Loss: 0.82870       Epoch : 440 , Genarator Loss: 1.30394914993218 , Discriminator Loss: 0.916629872577531\n",
            "Iteration: 700/700 (99.9%)  Genarator Loss: 1.30965 , Discriminator Loss: 0.85385       Epoch : 460 , Genarator Loss: 1.3143980078186308 , Discriminator Loss: 0.920551506962095\n",
            "Iteration: 700/700 (99.9%)  Genarator Loss: 1.25554 , Discriminator Loss: 0.84418       Epoch : 480 , Genarator Loss: 1.3061723157337735 , Discriminator Loss: 0.9181452364580972\n",
            "Iteration: 700/700 (99.9%)  Genarator Loss: 1.15171 , Discriminator Loss: 0.88980       Epoch : 500 , Genarator Loss: 1.3109439086914063 , Discriminator Loss: 0.9144513128484999\n",
            "Iteration: 700/700 (99.9%)  Genarator Loss: 1.08985 , Discriminator Loss: 0.96485       Epoch : 520 , Genarator Loss: 1.3150526578085764 , Discriminator Loss: 0.9184679374524525\n",
            "Iteration: 700/700 (99.9%)  Genarator Loss: 1.19683 , Discriminator Loss: 0.86543       Epoch : 540 , Genarator Loss: 1.3164884621756416 , Discriminator Loss: 0.9126029333046505\n",
            "Iteration: 700/700 (99.9%)  Genarator Loss: 1.35437 , Discriminator Loss: 0.83420       Epoch : 560 , Genarator Loss: 1.3154816479342324 , Discriminator Loss: 0.9115460744074413\n",
            "Iteration: 700/700 (99.9%)  Genarator Loss: 1.21533 , Discriminator Loss: 0.85688       Epoch : 580 , Genarator Loss: 1.330734601020813 , Discriminator Loss: 0.9058853200503758\n",
            "Iteration: 700/700 (99.9%)  Genarator Loss: 1.42731 , Discriminator Loss: 0.81172       Epoch : 600 , Genarator Loss: 1.3215574055058616 , Discriminator Loss: 0.9147467136383056\n",
            "Iteration: 700/700 (99.9%)  Genarator Loss: 1.24080 , Discriminator Loss: 0.90851       Epoch : 620 , Genarator Loss: 1.3377447865690504 , Discriminator Loss: 0.8978195301124028\n",
            "Iteration: 700/700 (99.9%)  Genarator Loss: 1.21673 , Discriminator Loss: 0.87258       Epoch : 640 , Genarator Loss: 1.3409922961677825 , Discriminator Loss: 0.9007393130234309\n",
            "Iteration: 700/700 (99.9%)  Genarator Loss: 1.28264 , Discriminator Loss: 0.84078       Epoch : 660 , Genarator Loss: 1.3521405415024077 , Discriminator Loss: 0.894188876407487\n",
            "Iteration: 700/700 (99.9%)  Genarator Loss: 1.12689 , Discriminator Loss: 0.90932       Epoch : 680 , Genarator Loss: 1.3451537789617265 , Discriminator Loss: 0.9019777314152037\n",
            "Iteration: 700/700 (99.9%)  Genarator Loss: 1.10946 , Discriminator Loss: 0.91446       Epoch : 700 , Genarator Loss: 1.3518200095210757 , Discriminator Loss: 0.8952686982495445\n",
            "Iteration: 700/700 (99.9%)  Genarator Loss: 1.28745 , Discriminator Loss: 0.87007       Epoch : 720 , Genarator Loss: 1.3555143814427513 , Discriminator Loss: 0.8929165855475835\n",
            "Iteration: 700/700 (99.9%)  Genarator Loss: 1.28408 , Discriminator Loss: 0.88249       Epoch : 740 , Genarator Loss: 1.3677476755210332 , Discriminator Loss: 0.8866858727591378\n",
            "Iteration: 700/700 (99.9%)  Genarator Loss: 1.31904 , Discriminator Loss: 0.93035       Epoch : 760 , Genarator Loss: 1.3718309640884399 , Discriminator Loss: 0.886908592070852\n",
            "Iteration: 700/700 (99.9%)  Genarator Loss: 1.31658 , Discriminator Loss: 0.84889       Epoch : 780 , Genarator Loss: 1.3823021059376852 , Discriminator Loss: 0.8858176853827068\n",
            "Iteration: 700/700 (99.9%)  Genarator Loss: 1.39987 , Discriminator Loss: 0.84620       Epoch : 800 , Genarator Loss: 1.3674960153443472 , Discriminator Loss: 0.8904723654474531\n",
            "Iteration: 700/700 (99.9%)  Genarator Loss: 1.25802 , Discriminator Loss: 0.86229       Epoch : 820 , Genarator Loss: 1.3729486822230474 , Discriminator Loss: 0.8801167742695127\n",
            "Iteration: 700/700 (99.9%)  Genarator Loss: 1.43030 , Discriminator Loss: 0.84128       Epoch : 840 , Genarator Loss: 1.3852446588448115 , Discriminator Loss: 0.8819442111253738\n",
            "Iteration: 700/700 (99.9%)  Genarator Loss: 1.38113 , Discriminator Loss: 0.82649       Epoch : 860 , Genarator Loss: 1.3863867448057448 , Discriminator Loss: 0.876717586517334\n",
            "Iteration: 700/700 (99.9%)  Genarator Loss: 1.20750 , Discriminator Loss: 0.84058       Epoch : 880 , Genarator Loss: 1.3866903633730752 , Discriminator Loss: 0.8749795822586333\n",
            "Iteration: 700/700 (99.9%)  Genarator Loss: 1.20063 , Discriminator Loss: 0.89772       Epoch : 900 , Genarator Loss: 1.399586889062609 , Discriminator Loss: 0.8723077338933944\n",
            "Iteration: 700/700 (99.9%)  Genarator Loss: 1.36898 , Discriminator Loss: 0.76517       Epoch : 920 , Genarator Loss: 1.402746956859316 , Discriminator Loss: 0.8761510698284422\n",
            "Iteration: 700/700 (99.9%)  Genarator Loss: 1.27520 , Discriminator Loss: 0.86404       Epoch : 940 , Genarator Loss: 1.4020116480759213 , Discriminator Loss: 0.8762946138211659\n",
            "Iteration: 700/700 (99.9%)  Genarator Loss: 1.35199 , Discriminator Loss: 0.89164       Epoch : 960 , Genarator Loss: 1.4040039590426854 , Discriminator Loss: 0.8701059934071133\n",
            "Iteration: 700/700 (99.9%)  Genarator Loss: 1.45624 , Discriminator Loss: 0.79977       Epoch : 980 , Genarator Loss: 1.4194645314557213 , Discriminator Loss: 0.8623174085787364\n",
            "Iteration: 700/700 (99.9%)  Genarator Loss: 1.49375 , Discriminator Loss: 0.79615       "
          ],
          "name": "stdout"
        }
      ]
    },
    {
      "cell_type": "code",
      "metadata": {
        "id": "NykunKxU6PjJ",
        "colab": {
          "base_uri": "https://localhost:8080/",
          "height": 282
        },
        "outputId": "1fd778e4-64fa-49cc-bf61-2dd2c46a5781"
      },
      "source": [
        "with tf.Session() as sess:\n",
        "  saver.restore(sess, checkpoint_path)\n",
        "  f_img = sess.run(\n",
        "            [fake_img],\n",
        "            feed_dict={X: x[0].reshape(1,28,28),\n",
        "                      Z: np.random.uniform(-1,1,size=(1,random_size))\n",
        "                           })\n",
        "  plt.imshow(np.reshape(f_img,(28,28)))\n"
      ],
      "execution_count": 54,
      "outputs": [
        {
          "output_type": "stream",
          "text": [
            "INFO:tensorflow:Restoring parameters from ./my_GAN_network\n"
          ],
          "name": "stdout"
        },
        {
          "output_type": "display_data",
          "data": {
            "image/png": "[encoded data removed]",
            "text/plain": [
              "<Figure size 432x288 with 1 Axes>"
            ]
          },
          "metadata": {
            "tags": [],
            "needs_background": "light"
          }
        }
      ]
    },
    {
      "cell_type": "code",
      "metadata": {
        "id": "e64TPKuok-nz"
      },
      "source": [
        ""
      ],
      "execution_count": 22,
      "outputs": []
    }
  ]
}